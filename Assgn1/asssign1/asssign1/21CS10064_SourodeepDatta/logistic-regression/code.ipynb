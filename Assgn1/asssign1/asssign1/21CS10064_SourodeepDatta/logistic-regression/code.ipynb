{
 "cells": [
  {
   "attachments": {},
   "cell_type": "markdown",
   "metadata": {},
   "source": [
    "## Assignment 1\n",
    "### Name: Sourodeep Datta\n",
    "### Roll Number: 21CS10064"
   ]
  },
  {
   "cell_type": "code",
   "execution_count": 43,
   "metadata": {},
   "outputs": [],
   "source": [
    "# import all the necessary libraries here\n",
    "import pandas as pd\n",
    "import numpy as np\n",
    "from matplotlib import pyplot as plt"
   ]
  },
  {
   "cell_type": "code",
   "execution_count": 28,
   "metadata": {},
   "outputs": [
    {
     "name": "stdout",
     "output_type": "stream",
     "text": [
      "(2500, 13)\n"
     ]
    }
   ],
   "source": [
    "df = pd.read_excel('../../dataset/logistic-regression/Pumpkin_Seeds_Dataset.xlsx')\n",
    "print(df.shape) "
   ]
  },
  {
   "cell_type": "code",
   "execution_count": 29,
   "metadata": {},
   "outputs": [
    {
     "data": {
      "text/html": [
       "<div>\n",
       "<style scoped>\n",
       "    .dataframe tbody tr th:only-of-type {\n",
       "        vertical-align: middle;\n",
       "    }\n",
       "\n",
       "    .dataframe tbody tr th {\n",
       "        vertical-align: top;\n",
       "    }\n",
       "\n",
       "    .dataframe thead th {\n",
       "        text-align: right;\n",
       "    }\n",
       "</style>\n",
       "<table border=\"1\" class=\"dataframe\">\n",
       "  <thead>\n",
       "    <tr style=\"text-align: right;\">\n",
       "      <th></th>\n",
       "      <th>Area</th>\n",
       "      <th>Perimeter</th>\n",
       "      <th>Major_Axis_Length</th>\n",
       "      <th>Minor_Axis_Length</th>\n",
       "      <th>Convex_Area</th>\n",
       "      <th>Equiv_Diameter</th>\n",
       "      <th>Eccentricity</th>\n",
       "      <th>Solidity</th>\n",
       "      <th>Extent</th>\n",
       "      <th>Roundness</th>\n",
       "      <th>Aspect_Ration</th>\n",
       "      <th>Compactness</th>\n",
       "      <th>Class</th>\n",
       "    </tr>\n",
       "  </thead>\n",
       "  <tbody>\n",
       "    <tr>\n",
       "      <th>0</th>\n",
       "      <td>56276</td>\n",
       "      <td>888.242</td>\n",
       "      <td>326.1485</td>\n",
       "      <td>220.2388</td>\n",
       "      <td>56831</td>\n",
       "      <td>267.6805</td>\n",
       "      <td>0.7376</td>\n",
       "      <td>0.9902</td>\n",
       "      <td>0.7453</td>\n",
       "      <td>0.8963</td>\n",
       "      <td>1.4809</td>\n",
       "      <td>0.8207</td>\n",
       "      <td>Çerçevelik</td>\n",
       "    </tr>\n",
       "    <tr>\n",
       "      <th>1</th>\n",
       "      <td>76631</td>\n",
       "      <td>1068.146</td>\n",
       "      <td>417.1932</td>\n",
       "      <td>234.2289</td>\n",
       "      <td>77280</td>\n",
       "      <td>312.3614</td>\n",
       "      <td>0.8275</td>\n",
       "      <td>0.9916</td>\n",
       "      <td>0.7151</td>\n",
       "      <td>0.8440</td>\n",
       "      <td>1.7811</td>\n",
       "      <td>0.7487</td>\n",
       "      <td>Çerçevelik</td>\n",
       "    </tr>\n",
       "    <tr>\n",
       "      <th>2</th>\n",
       "      <td>71623</td>\n",
       "      <td>1082.987</td>\n",
       "      <td>435.8328</td>\n",
       "      <td>211.0457</td>\n",
       "      <td>72663</td>\n",
       "      <td>301.9822</td>\n",
       "      <td>0.8749</td>\n",
       "      <td>0.9857</td>\n",
       "      <td>0.7400</td>\n",
       "      <td>0.7674</td>\n",
       "      <td>2.0651</td>\n",
       "      <td>0.6929</td>\n",
       "      <td>Çerçevelik</td>\n",
       "    </tr>\n",
       "    <tr>\n",
       "      <th>3</th>\n",
       "      <td>66458</td>\n",
       "      <td>992.051</td>\n",
       "      <td>381.5638</td>\n",
       "      <td>222.5322</td>\n",
       "      <td>67118</td>\n",
       "      <td>290.8899</td>\n",
       "      <td>0.8123</td>\n",
       "      <td>0.9902</td>\n",
       "      <td>0.7396</td>\n",
       "      <td>0.8486</td>\n",
       "      <td>1.7146</td>\n",
       "      <td>0.7624</td>\n",
       "      <td>Çerçevelik</td>\n",
       "    </tr>\n",
       "    <tr>\n",
       "      <th>4</th>\n",
       "      <td>66107</td>\n",
       "      <td>998.146</td>\n",
       "      <td>383.8883</td>\n",
       "      <td>220.4545</td>\n",
       "      <td>67117</td>\n",
       "      <td>290.1207</td>\n",
       "      <td>0.8187</td>\n",
       "      <td>0.9850</td>\n",
       "      <td>0.6752</td>\n",
       "      <td>0.8338</td>\n",
       "      <td>1.7413</td>\n",
       "      <td>0.7557</td>\n",
       "      <td>Çerçevelik</td>\n",
       "    </tr>\n",
       "  </tbody>\n",
       "</table>\n",
       "</div>"
      ],
      "text/plain": [
       "    Area  Perimeter  Major_Axis_Length  Minor_Axis_Length  Convex_Area  \\\n",
       "0  56276    888.242           326.1485           220.2388        56831   \n",
       "1  76631   1068.146           417.1932           234.2289        77280   \n",
       "2  71623   1082.987           435.8328           211.0457        72663   \n",
       "3  66458    992.051           381.5638           222.5322        67118   \n",
       "4  66107    998.146           383.8883           220.4545        67117   \n",
       "\n",
       "   Equiv_Diameter  Eccentricity  Solidity  Extent  Roundness  Aspect_Ration  \\\n",
       "0        267.6805        0.7376    0.9902  0.7453     0.8963         1.4809   \n",
       "1        312.3614        0.8275    0.9916  0.7151     0.8440         1.7811   \n",
       "2        301.9822        0.8749    0.9857  0.7400     0.7674         2.0651   \n",
       "3        290.8899        0.8123    0.9902  0.7396     0.8486         1.7146   \n",
       "4        290.1207        0.8187    0.9850  0.6752     0.8338         1.7413   \n",
       "\n",
       "   Compactness       Class  \n",
       "0       0.8207  Çerçevelik  \n",
       "1       0.7487  Çerçevelik  \n",
       "2       0.6929  Çerçevelik  \n",
       "3       0.7624  Çerçevelik  \n",
       "4       0.7557  Çerçevelik  "
      ]
     },
     "execution_count": 29,
     "metadata": {},
     "output_type": "execute_result"
    }
   ],
   "source": [
    "df.head()"
   ]
  },
  {
   "cell_type": "markdown",
   "metadata": {},
   "source": [
    "Separating y from Dataset"
   ]
  },
  {
   "cell_type": "code",
   "execution_count": 30,
   "metadata": {},
   "outputs": [
    {
     "data": {
      "text/plain": [
       "0    Çerçevelik\n",
       "1    Çerçevelik\n",
       "2    Çerçevelik\n",
       "3    Çerçevelik\n",
       "4    Çerçevelik\n",
       "Name: Class, dtype: object"
      ]
     },
     "execution_count": 30,
     "metadata": {},
     "output_type": "execute_result"
    }
   ],
   "source": [
    "y = df['Class']\n",
    "y.head()"
   ]
  },
  {
   "cell_type": "code",
   "execution_count": 31,
   "metadata": {},
   "outputs": [
    {
     "data": {
      "text/html": [
       "<div>\n",
       "<style scoped>\n",
       "    .dataframe tbody tr th:only-of-type {\n",
       "        vertical-align: middle;\n",
       "    }\n",
       "\n",
       "    .dataframe tbody tr th {\n",
       "        vertical-align: top;\n",
       "    }\n",
       "\n",
       "    .dataframe thead th {\n",
       "        text-align: right;\n",
       "    }\n",
       "</style>\n",
       "<table border=\"1\" class=\"dataframe\">\n",
       "  <thead>\n",
       "    <tr style=\"text-align: right;\">\n",
       "      <th></th>\n",
       "      <th>Area</th>\n",
       "      <th>Perimeter</th>\n",
       "      <th>Major_Axis_Length</th>\n",
       "      <th>Minor_Axis_Length</th>\n",
       "      <th>Convex_Area</th>\n",
       "      <th>Equiv_Diameter</th>\n",
       "      <th>Eccentricity</th>\n",
       "      <th>Solidity</th>\n",
       "      <th>Extent</th>\n",
       "      <th>Roundness</th>\n",
       "      <th>Aspect_Ration</th>\n",
       "      <th>Compactness</th>\n",
       "    </tr>\n",
       "  </thead>\n",
       "  <tbody>\n",
       "    <tr>\n",
       "      <th>0</th>\n",
       "      <td>56276</td>\n",
       "      <td>888.242</td>\n",
       "      <td>326.1485</td>\n",
       "      <td>220.2388</td>\n",
       "      <td>56831</td>\n",
       "      <td>267.6805</td>\n",
       "      <td>0.7376</td>\n",
       "      <td>0.9902</td>\n",
       "      <td>0.7453</td>\n",
       "      <td>0.8963</td>\n",
       "      <td>1.4809</td>\n",
       "      <td>0.8207</td>\n",
       "    </tr>\n",
       "    <tr>\n",
       "      <th>1</th>\n",
       "      <td>76631</td>\n",
       "      <td>1068.146</td>\n",
       "      <td>417.1932</td>\n",
       "      <td>234.2289</td>\n",
       "      <td>77280</td>\n",
       "      <td>312.3614</td>\n",
       "      <td>0.8275</td>\n",
       "      <td>0.9916</td>\n",
       "      <td>0.7151</td>\n",
       "      <td>0.8440</td>\n",
       "      <td>1.7811</td>\n",
       "      <td>0.7487</td>\n",
       "    </tr>\n",
       "    <tr>\n",
       "      <th>2</th>\n",
       "      <td>71623</td>\n",
       "      <td>1082.987</td>\n",
       "      <td>435.8328</td>\n",
       "      <td>211.0457</td>\n",
       "      <td>72663</td>\n",
       "      <td>301.9822</td>\n",
       "      <td>0.8749</td>\n",
       "      <td>0.9857</td>\n",
       "      <td>0.7400</td>\n",
       "      <td>0.7674</td>\n",
       "      <td>2.0651</td>\n",
       "      <td>0.6929</td>\n",
       "    </tr>\n",
       "    <tr>\n",
       "      <th>3</th>\n",
       "      <td>66458</td>\n",
       "      <td>992.051</td>\n",
       "      <td>381.5638</td>\n",
       "      <td>222.5322</td>\n",
       "      <td>67118</td>\n",
       "      <td>290.8899</td>\n",
       "      <td>0.8123</td>\n",
       "      <td>0.9902</td>\n",
       "      <td>0.7396</td>\n",
       "      <td>0.8486</td>\n",
       "      <td>1.7146</td>\n",
       "      <td>0.7624</td>\n",
       "    </tr>\n",
       "    <tr>\n",
       "      <th>4</th>\n",
       "      <td>66107</td>\n",
       "      <td>998.146</td>\n",
       "      <td>383.8883</td>\n",
       "      <td>220.4545</td>\n",
       "      <td>67117</td>\n",
       "      <td>290.1207</td>\n",
       "      <td>0.8187</td>\n",
       "      <td>0.9850</td>\n",
       "      <td>0.6752</td>\n",
       "      <td>0.8338</td>\n",
       "      <td>1.7413</td>\n",
       "      <td>0.7557</td>\n",
       "    </tr>\n",
       "  </tbody>\n",
       "</table>\n",
       "</div>"
      ],
      "text/plain": [
       "    Area  Perimeter  Major_Axis_Length  Minor_Axis_Length  Convex_Area  \\\n",
       "0  56276    888.242           326.1485           220.2388        56831   \n",
       "1  76631   1068.146           417.1932           234.2289        77280   \n",
       "2  71623   1082.987           435.8328           211.0457        72663   \n",
       "3  66458    992.051           381.5638           222.5322        67118   \n",
       "4  66107    998.146           383.8883           220.4545        67117   \n",
       "\n",
       "   Equiv_Diameter  Eccentricity  Solidity  Extent  Roundness  Aspect_Ration  \\\n",
       "0        267.6805        0.7376    0.9902  0.7453     0.8963         1.4809   \n",
       "1        312.3614        0.8275    0.9916  0.7151     0.8440         1.7811   \n",
       "2        301.9822        0.8749    0.9857  0.7400     0.7674         2.0651   \n",
       "3        290.8899        0.8123    0.9902  0.7396     0.8486         1.7146   \n",
       "4        290.1207        0.8187    0.9850  0.6752     0.8338         1.7413   \n",
       "\n",
       "   Compactness  \n",
       "0       0.8207  \n",
       "1       0.7487  \n",
       "2       0.6929  \n",
       "3       0.7624  \n",
       "4       0.7557  "
      ]
     },
     "execution_count": 31,
     "metadata": {},
     "output_type": "execute_result"
    }
   ],
   "source": [
    "df = df.drop(['Class'], axis = 1)\n",
    "df.head()"
   ]
  },
  {
   "cell_type": "code",
   "execution_count": 32,
   "metadata": {},
   "outputs": [],
   "source": [
    "mapping = {'Çerçevelik' : 1, 'Ürgüp Sivrisi' : 0}\n",
    "y[y == 'Çerçevelik'] = 1\n",
    "y[y == 'Ürgüp Sivrisi'] = 0"
   ]
  },
  {
   "cell_type": "markdown",
   "metadata": {},
   "source": [
    "Normalizing Dataset"
   ]
  },
  {
   "cell_type": "code",
   "execution_count": 33,
   "metadata": {},
   "outputs": [
    {
     "data": {
      "text/plain": [
       "Area                 80658.220800\n",
       "Perimeter             1130.279015\n",
       "Major_Axis_Length      456.601840\n",
       "Minor_Axis_Length      225.794921\n",
       "Convex_Area          81508.084400\n",
       "Equiv_Diameter         319.334230\n",
       "Eccentricity             0.860879\n",
       "Solidity                 0.989492\n",
       "Extent                   0.693205\n",
       "Roundness                0.791533\n",
       "Aspect_Ration            2.041702\n",
       "Compactness              0.704121\n",
       "dtype: float64"
      ]
     },
     "execution_count": 33,
     "metadata": {},
     "output_type": "execute_result"
    }
   ],
   "source": [
    "df_mean = df.mean(axis = 0)\n",
    "df_mean.head(n = 12)"
   ]
  },
  {
   "cell_type": "code",
   "execution_count": 34,
   "metadata": {},
   "outputs": [
    {
     "data": {
      "text/plain": [
       "Area                 13664.510228\n",
       "Perimeter              109.256418\n",
       "Major_Axis_Length       56.235704\n",
       "Minor_Axis_Length       23.297245\n",
       "Convex_Area          13764.092788\n",
       "Equiv_Diameter          26.891920\n",
       "Eccentricity             0.045167\n",
       "Solidity                 0.003494\n",
       "Extent                   0.060914\n",
       "Roundness                0.055924\n",
       "Aspect_Ration            0.315997\n",
       "Compactness              0.053067\n",
       "dtype: float64"
      ]
     },
     "execution_count": 34,
     "metadata": {},
     "output_type": "execute_result"
    }
   ],
   "source": [
    "df_std = df.std()\n",
    "df_std.head(n = 12)"
   ]
  },
  {
   "cell_type": "code",
   "execution_count": 35,
   "metadata": {},
   "outputs": [
    {
     "data": {
      "text/html": [
       "<div>\n",
       "<style scoped>\n",
       "    .dataframe tbody tr th:only-of-type {\n",
       "        vertical-align: middle;\n",
       "    }\n",
       "\n",
       "    .dataframe tbody tr th {\n",
       "        vertical-align: top;\n",
       "    }\n",
       "\n",
       "    .dataframe thead th {\n",
       "        text-align: right;\n",
       "    }\n",
       "</style>\n",
       "<table border=\"1\" class=\"dataframe\">\n",
       "  <thead>\n",
       "    <tr style=\"text-align: right;\">\n",
       "      <th></th>\n",
       "      <th>Area</th>\n",
       "      <th>Perimeter</th>\n",
       "      <th>Major_Axis_Length</th>\n",
       "      <th>Minor_Axis_Length</th>\n",
       "      <th>Convex_Area</th>\n",
       "      <th>Equiv_Diameter</th>\n",
       "      <th>Eccentricity</th>\n",
       "      <th>Solidity</th>\n",
       "      <th>Extent</th>\n",
       "      <th>Roundness</th>\n",
       "      <th>Aspect_Ration</th>\n",
       "      <th>Compactness</th>\n",
       "    </tr>\n",
       "  </thead>\n",
       "  <tbody>\n",
       "    <tr>\n",
       "      <th>0</th>\n",
       "      <td>-1.784346</td>\n",
       "      <td>-2.215312</td>\n",
       "      <td>-2.319760</td>\n",
       "      <td>-0.238488</td>\n",
       "      <td>-1.792859</td>\n",
       "      <td>-1.920790</td>\n",
       "      <td>-2.729389</td>\n",
       "      <td>0.202771</td>\n",
       "      <td>0.855235</td>\n",
       "      <td>1.873388</td>\n",
       "      <td>-1.774708</td>\n",
       "      <td>2.196840</td>\n",
       "    </tr>\n",
       "    <tr>\n",
       "      <th>1</th>\n",
       "      <td>-0.294721</td>\n",
       "      <td>-0.568690</td>\n",
       "      <td>-0.700776</td>\n",
       "      <td>0.362016</td>\n",
       "      <td>-0.307182</td>\n",
       "      <td>-0.259291</td>\n",
       "      <td>-0.739015</td>\n",
       "      <td>0.603505</td>\n",
       "      <td>0.359451</td>\n",
       "      <td>0.938189</td>\n",
       "      <td>-0.824699</td>\n",
       "      <td>0.840062</td>\n",
       "    </tr>\n",
       "    <tr>\n",
       "      <th>2</th>\n",
       "      <td>-0.661218</td>\n",
       "      <td>-0.432853</td>\n",
       "      <td>-0.369321</td>\n",
       "      <td>-0.633089</td>\n",
       "      <td>-0.642620</td>\n",
       "      <td>-0.645251</td>\n",
       "      <td>0.310414</td>\n",
       "      <td>-1.085301</td>\n",
       "      <td>0.768227</td>\n",
       "      <td>-0.431528</td>\n",
       "      <td>0.074044</td>\n",
       "      <td>-0.211441</td>\n",
       "    </tr>\n",
       "    <tr>\n",
       "      <th>3</th>\n",
       "      <td>-1.039205</td>\n",
       "      <td>-1.265171</td>\n",
       "      <td>-1.334349</td>\n",
       "      <td>-0.140048</td>\n",
       "      <td>-1.045480</td>\n",
       "      <td>-1.057728</td>\n",
       "      <td>-1.075541</td>\n",
       "      <td>0.202771</td>\n",
       "      <td>0.761660</td>\n",
       "      <td>1.020444</td>\n",
       "      <td>-1.035144</td>\n",
       "      <td>1.098227</td>\n",
       "    </tr>\n",
       "    <tr>\n",
       "      <th>4</th>\n",
       "      <td>-1.064892</td>\n",
       "      <td>-1.209384</td>\n",
       "      <td>-1.293014</td>\n",
       "      <td>-0.229230</td>\n",
       "      <td>-1.045553</td>\n",
       "      <td>-1.086331</td>\n",
       "      <td>-0.933846</td>\n",
       "      <td>-1.285668</td>\n",
       "      <td>-0.295574</td>\n",
       "      <td>0.755799</td>\n",
       "      <td>-0.950650</td>\n",
       "      <td>0.971971</td>\n",
       "    </tr>\n",
       "  </tbody>\n",
       "</table>\n",
       "</div>"
      ],
      "text/plain": [
       "       Area  Perimeter  Major_Axis_Length  Minor_Axis_Length  Convex_Area  \\\n",
       "0 -1.784346  -2.215312          -2.319760          -0.238488    -1.792859   \n",
       "1 -0.294721  -0.568690          -0.700776           0.362016    -0.307182   \n",
       "2 -0.661218  -0.432853          -0.369321          -0.633089    -0.642620   \n",
       "3 -1.039205  -1.265171          -1.334349          -0.140048    -1.045480   \n",
       "4 -1.064892  -1.209384          -1.293014          -0.229230    -1.045553   \n",
       "\n",
       "   Equiv_Diameter  Eccentricity  Solidity    Extent  Roundness  Aspect_Ration  \\\n",
       "0       -1.920790     -2.729389  0.202771  0.855235   1.873388      -1.774708   \n",
       "1       -0.259291     -0.739015  0.603505  0.359451   0.938189      -0.824699   \n",
       "2       -0.645251      0.310414 -1.085301  0.768227  -0.431528       0.074044   \n",
       "3       -1.057728     -1.075541  0.202771  0.761660   1.020444      -1.035144   \n",
       "4       -1.086331     -0.933846 -1.285668 -0.295574   0.755799      -0.950650   \n",
       "\n",
       "   Compactness  \n",
       "0     2.196840  \n",
       "1     0.840062  \n",
       "2    -0.211441  \n",
       "3     1.098227  \n",
       "4     0.971971  "
      ]
     },
     "execution_count": 35,
     "metadata": {},
     "output_type": "execute_result"
    }
   ],
   "source": [
    "df_normalized = (df - df_mean) / df_std\n",
    "df_normalized.head()"
   ]
  },
  {
   "cell_type": "markdown",
   "metadata": {},
   "source": [
    "Adding a bias feature to dataset, to simplify calculations later"
   ]
  },
  {
   "cell_type": "code",
   "execution_count": 36,
   "metadata": {},
   "outputs": [
    {
     "data": {
      "text/html": [
       "<div>\n",
       "<style scoped>\n",
       "    .dataframe tbody tr th:only-of-type {\n",
       "        vertical-align: middle;\n",
       "    }\n",
       "\n",
       "    .dataframe tbody tr th {\n",
       "        vertical-align: top;\n",
       "    }\n",
       "\n",
       "    .dataframe thead th {\n",
       "        text-align: right;\n",
       "    }\n",
       "</style>\n",
       "<table border=\"1\" class=\"dataframe\">\n",
       "  <thead>\n",
       "    <tr style=\"text-align: right;\">\n",
       "      <th></th>\n",
       "      <th>Area</th>\n",
       "      <th>Perimeter</th>\n",
       "      <th>Major_Axis_Length</th>\n",
       "      <th>Minor_Axis_Length</th>\n",
       "      <th>Convex_Area</th>\n",
       "      <th>Equiv_Diameter</th>\n",
       "      <th>Eccentricity</th>\n",
       "      <th>Solidity</th>\n",
       "      <th>Extent</th>\n",
       "      <th>Roundness</th>\n",
       "      <th>Aspect_Ration</th>\n",
       "      <th>Compactness</th>\n",
       "      <th>bias</th>\n",
       "    </tr>\n",
       "  </thead>\n",
       "  <tbody>\n",
       "    <tr>\n",
       "      <th>0</th>\n",
       "      <td>-1.784346</td>\n",
       "      <td>-2.215312</td>\n",
       "      <td>-2.319760</td>\n",
       "      <td>-0.238488</td>\n",
       "      <td>-1.792859</td>\n",
       "      <td>-1.920790</td>\n",
       "      <td>-2.729389</td>\n",
       "      <td>0.202771</td>\n",
       "      <td>0.855235</td>\n",
       "      <td>1.873388</td>\n",
       "      <td>-1.774708</td>\n",
       "      <td>2.196840</td>\n",
       "      <td>1</td>\n",
       "    </tr>\n",
       "    <tr>\n",
       "      <th>1</th>\n",
       "      <td>-0.294721</td>\n",
       "      <td>-0.568690</td>\n",
       "      <td>-0.700776</td>\n",
       "      <td>0.362016</td>\n",
       "      <td>-0.307182</td>\n",
       "      <td>-0.259291</td>\n",
       "      <td>-0.739015</td>\n",
       "      <td>0.603505</td>\n",
       "      <td>0.359451</td>\n",
       "      <td>0.938189</td>\n",
       "      <td>-0.824699</td>\n",
       "      <td>0.840062</td>\n",
       "      <td>1</td>\n",
       "    </tr>\n",
       "    <tr>\n",
       "      <th>2</th>\n",
       "      <td>-0.661218</td>\n",
       "      <td>-0.432853</td>\n",
       "      <td>-0.369321</td>\n",
       "      <td>-0.633089</td>\n",
       "      <td>-0.642620</td>\n",
       "      <td>-0.645251</td>\n",
       "      <td>0.310414</td>\n",
       "      <td>-1.085301</td>\n",
       "      <td>0.768227</td>\n",
       "      <td>-0.431528</td>\n",
       "      <td>0.074044</td>\n",
       "      <td>-0.211441</td>\n",
       "      <td>1</td>\n",
       "    </tr>\n",
       "    <tr>\n",
       "      <th>3</th>\n",
       "      <td>-1.039205</td>\n",
       "      <td>-1.265171</td>\n",
       "      <td>-1.334349</td>\n",
       "      <td>-0.140048</td>\n",
       "      <td>-1.045480</td>\n",
       "      <td>-1.057728</td>\n",
       "      <td>-1.075541</td>\n",
       "      <td>0.202771</td>\n",
       "      <td>0.761660</td>\n",
       "      <td>1.020444</td>\n",
       "      <td>-1.035144</td>\n",
       "      <td>1.098227</td>\n",
       "      <td>1</td>\n",
       "    </tr>\n",
       "    <tr>\n",
       "      <th>4</th>\n",
       "      <td>-1.064892</td>\n",
       "      <td>-1.209384</td>\n",
       "      <td>-1.293014</td>\n",
       "      <td>-0.229230</td>\n",
       "      <td>-1.045553</td>\n",
       "      <td>-1.086331</td>\n",
       "      <td>-0.933846</td>\n",
       "      <td>-1.285668</td>\n",
       "      <td>-0.295574</td>\n",
       "      <td>0.755799</td>\n",
       "      <td>-0.950650</td>\n",
       "      <td>0.971971</td>\n",
       "      <td>1</td>\n",
       "    </tr>\n",
       "  </tbody>\n",
       "</table>\n",
       "</div>"
      ],
      "text/plain": [
       "       Area  Perimeter  Major_Axis_Length  Minor_Axis_Length  Convex_Area  \\\n",
       "0 -1.784346  -2.215312          -2.319760          -0.238488    -1.792859   \n",
       "1 -0.294721  -0.568690          -0.700776           0.362016    -0.307182   \n",
       "2 -0.661218  -0.432853          -0.369321          -0.633089    -0.642620   \n",
       "3 -1.039205  -1.265171          -1.334349          -0.140048    -1.045480   \n",
       "4 -1.064892  -1.209384          -1.293014          -0.229230    -1.045553   \n",
       "\n",
       "   Equiv_Diameter  Eccentricity  Solidity    Extent  Roundness  Aspect_Ration  \\\n",
       "0       -1.920790     -2.729389  0.202771  0.855235   1.873388      -1.774708   \n",
       "1       -0.259291     -0.739015  0.603505  0.359451   0.938189      -0.824699   \n",
       "2       -0.645251      0.310414 -1.085301  0.768227  -0.431528       0.074044   \n",
       "3       -1.057728     -1.075541  0.202771  0.761660   1.020444      -1.035144   \n",
       "4       -1.086331     -0.933846 -1.285668 -0.295574   0.755799      -0.950650   \n",
       "\n",
       "   Compactness  bias  \n",
       "0     2.196840     1  \n",
       "1     0.840062     1  \n",
       "2    -0.211441     1  \n",
       "3     1.098227     1  \n",
       "4     0.971971     1  "
      ]
     },
     "execution_count": 36,
     "metadata": {},
     "output_type": "execute_result"
    }
   ],
   "source": [
    "df_normalized.insert(12, 'bias', 1)\n",
    "df_normalized.head()"
   ]
  },
  {
   "cell_type": "code",
   "execution_count": 37,
   "metadata": {},
   "outputs": [],
   "source": [
    "train_df = df_normalized.sample(frac = 0.5, random_state = 218)\n",
    "val_df = df_normalized.drop(train_df.index).sample(frac = 0.6, random_state = 218)\n",
    "test_df = df_normalized.drop(train_df.index).drop(val_df.index)"
   ]
  },
  {
   "cell_type": "code",
   "execution_count": 38,
   "metadata": {},
   "outputs": [
    {
     "name": "stdout",
     "output_type": "stream",
     "text": [
      "(1250, 13)\n",
      "(750, 13)\n",
      "(500, 13)\n"
     ]
    }
   ],
   "source": [
    "print(train_df.shape)\n",
    "print(val_df.shape)\n",
    "print(test_df.shape)"
   ]
  },
  {
   "cell_type": "code",
   "execution_count": 40,
   "metadata": {},
   "outputs": [],
   "source": [
    "y_train = y[train_df.index]\n",
    "y_val = y[val_df.index]\n",
    "y_test = y[test_df.index]"
   ]
  },
  {
   "cell_type": "code",
   "execution_count": 41,
   "metadata": {},
   "outputs": [],
   "source": [
    "train_df.reset_index(drop = True, inplace=True)\n",
    "val_df.reset_index(drop = True, inplace=True)\n",
    "test_df.reset_index(drop = True, inplace=True)\n",
    "y_train.reset_index(drop = True, inplace=True)\n",
    "y_val.reset_index(drop = True, inplace=True)\n",
    "y_test.reset_index(drop = True, inplace=True)"
   ]
  },
  {
   "cell_type": "code",
   "execution_count": 44,
   "metadata": {},
   "outputs": [],
   "source": [
    "X_train = np.array(train_df)\n",
    "X_val = np.array(val_df)\n",
    "X_test = np.array(test_df)\n",
    "y_train = np.array(y_train)\n",
    "y_val = np.array(y_val)\n",
    "y_test = np.array(y_test)"
   ]
  },
  {
   "cell_type": "markdown",
   "metadata": {},
   "source": [
    "## Iterative Solution\n",
    "Defining Model"
   ]
  },
  {
   "cell_type": "code",
   "execution_count": 147,
   "metadata": {},
   "outputs": [],
   "source": [
    "class LogisticRegressionModel:\n",
    "    def __init__(self, X_train, y_train, X_val, y_val, alpha):\n",
    "        self.X_train = X_train\n",
    "        self.y_train = y_train\n",
    "        self.X_val = X_val\n",
    "        self.y_val = y_val\n",
    "        self.theta = np.random.rand(X_train.shape[1])\n",
    "        self.alpha = alpha\n",
    "        self.train_loss = []\n",
    "        self.val_loss = []\n",
    "        \n",
    "    def sigmoid(self, x):\n",
    "        x = x.astype(float)\n",
    "        return 1 / (1 + np.exp(-x))\n",
    "        \n",
    "    def gradient(self):\n",
    "        y_hat = np.matmul(self.X_train, self.theta)\n",
    "        y_hat = self.sigmoid(y_hat)\n",
    "        gradient = np.sum((y_hat - self.y_train)[:, np.newaxis] * self.X_train, axis = 0) / self.X_train.shape[0]\n",
    "        return gradient.T\n",
    "        \n",
    "    def step(self):\n",
    "        self.theta = self.theta - self.alpha * self.gradient()\n",
    "        \n",
    "    def loss(self, X, y):\n",
    "        y_hat = np.matmul(X, self.theta)\n",
    "        y_hat = self.sigmoid(y_hat)\n",
    "        loss = np.sum(-y * np.log(y_hat) - (1 - y) * np.log(1 - y_hat), axis = 0) / X.shape[0]\n",
    "        return loss\n",
    "        \n",
    "    def train(self, epochs):\n",
    "        for i in range(epochs):\n",
    "            self.step()\n",
    "            train_loss = self.loss(self.X_train, self.y_train)\n",
    "            val_loss = self.loss(self.X_val, self.y_val)\n",
    "            self.train_loss.append(train_loss)\n",
    "            self.val_loss.append(val_loss)\n",
    "            if i % 100 == 0:\n",
    "                print(\"Epoch: {}, Train Loss: {}, Val Loss: {}\".format(i, train_loss, val_loss))\n",
    "                \n",
    "    def predict(self, X):\n",
    "        y_hat = np.matmul(X, self.theta)\n",
    "        y_hat = self.sigmoid(y_hat)\n",
    "        return y_hat"
   ]
  },
  {
   "cell_type": "markdown",
   "metadata": {},
   "source": [
    "Function for plotting model"
   ]
  },
  {
   "cell_type": "code",
   "execution_count": 148,
   "metadata": {},
   "outputs": [],
   "source": [
    "def plot(model):\n",
    "    plt.plot(np.arange(1, len(model.train_loss) + 1), model.train_loss, label='Trainging Loss')\n",
    "    plt.plot(np.arange(1, len(model.val_loss) + 1), model.val_loss, label='Validation Loss')\n",
    "    plt.title('Training and Validation Loss')\n",
    "    plt.xlabel('Epochs')\n",
    "    plt.ylabel('Loss')\n",
    "    plt.legend(loc='best')\n",
    "    plt.show()"
   ]
  },
  {
   "cell_type": "markdown",
   "metadata": {},
   "source": [
    "Functions for Metrics"
   ]
  },
  {
   "cell_type": "code",
   "execution_count": 167,
   "metadata": {},
   "outputs": [],
   "source": [
    "def mean_accuracy(y_true, y_pred):\n",
    "    return np.mean(y_true == y_pred)\n",
    "\n",
    "def precision(y_true, y_pred):\n",
    "    return np.sum(y_true & y_pred) / np.sum(y_pred)\n",
    "\n",
    "def recall(y_true, y_pred):\n",
    "    return np.sum(y_true & y_pred) / np.sum(y_true)"
   ]
  },
  {
   "cell_type": "code",
   "execution_count": 161,
   "metadata": {},
   "outputs": [],
   "source": [
    "np.random.seed(218)\n",
    "model = LogisticRegressionModel(X_train, y_train, X_val, y_val, 0.01)"
   ]
  },
  {
   "cell_type": "code",
   "execution_count": 162,
   "metadata": {},
   "outputs": [
    {
     "name": "stdout",
     "output_type": "stream",
     "text": [
      "Epoch: 0, Train Loss: 1.769830561754612, Val Loss: 1.826277377208884\n",
      "Epoch: 10, Train Loss: 1.5850045409594207, Val Loss: 1.6302286035115405\n",
      "Epoch: 20, Train Loss: 1.4147255157302385, Val Loss: 1.4497581155456225\n",
      "Epoch: 30, Train Loss: 1.2601919777334976, Val Loss: 1.2862009499608296\n",
      "Epoch: 40, Train Loss: 1.1222434621727837, Val Loss: 1.1404550484142815\n",
      "Epoch: 50, Train Loss: 1.0011961428673206, Val Loss: 1.012802861587706\n",
      "Epoch: 60, Train Loss: 0.8967460644337488, Val Loss: 0.9028367332559429\n",
      "Epoch: 70, Train Loss: 0.8079823217791331, Val Loss: 0.809519181325361\n",
      "Epoch: 80, Train Loss: 0.7335054331549609, Val Loss: 0.7313421653811722\n",
      "Epoch: 90, Train Loss: 0.6716099086580897, Val Loss: 0.6665203877420589\n",
      "Epoch: 100, Train Loss: 0.6204818862651196, Val Loss: 0.6131732171148027\n",
      "Epoch: 110, Train Loss: 0.5783672052946383, Val Loss: 0.5694718337758926\n",
      "Epoch: 120, Train Loss: 0.5436819210743664, Val Loss: 0.5337404232567569\n",
      "Epoch: 130, Train Loss: 0.5150616013341374, Val Loss: 0.5045108198222052\n",
      "Epoch: 140, Train Loss: 0.49136533213746186, Val Loss: 0.4805390474102134\n",
      "Epoch: 150, Train Loss: 0.4716559810633852, Val Loss: 0.4607964878892192\n",
      "Epoch: 160, Train Loss: 0.455172376556214, Val Loss: 0.44444745457399637\n",
      "Epoch: 170, Train Loss: 0.4413010126204465, Val Loss: 0.43082141215595227\n",
      "Epoch: 180, Train Loss: 0.4295500208624037, Val Loss: 0.41938474080906546\n",
      "Epoch: 190, Train Loss: 0.4195262700565608, Val Loss: 0.4097147100829074\n",
      "Epoch: 200, Train Loss: 0.41091584003080844, Val Loss: 0.4014769272963712\n",
      "Epoch: 210, Train Loss: 0.40346781648612534, Val Loss: 0.3944066186978299\n",
      "Epoch: 220, Train Loss: 0.3969811392434973, Val Loss: 0.3882935503415336\n",
      "Epoch: 230, Train Loss: 0.3912941066549181, Val Loss: 0.38297012051048\n",
      "Epoch: 240, Train Loss: 0.3862760945574842, Val Loss: 0.37830207067464544\n",
      "Epoch: 250, Train Loss: 0.38182106611627453, Val Loss: 0.37418128574642484\n",
      "Epoch: 260, Train Loss: 0.3778425004178326, Val Loss: 0.3705202266030502\n",
      "Epoch: 270, Train Loss: 0.3742694305616772, Val Loss: 0.36724762242695214\n",
      "Epoch: 280, Train Loss: 0.37104334314705145, Val Loss: 0.3643051295257815\n",
      "Epoch: 290, Train Loss: 0.36811574443171674, Val Loss: 0.3616447301524725\n",
      "Epoch: 300, Train Loss: 0.3654462423150226, Val Loss: 0.3592266983659316\n",
      "Epoch: 310, Train Loss: 0.3630010281020945, Val Loss: 0.35701800152072605\n",
      "Epoch: 320, Train Loss: 0.3607516690384942, Val Loss: 0.35499103767479717\n",
      "Epoch: 330, Train Loss: 0.3586741433480951, Val Loss: 0.35312263317183906\n",
      "Epoch: 340, Train Loss: 0.3567480653247875, Val Loss: 0.35139324270419564\n"
     ]
    }
   ],
   "source": [
    "model.train(350)"
   ]
  },
  {
   "cell_type": "code",
   "execution_count": 163,
   "metadata": {},
   "outputs": [
    {
     "data": {
      "image/png": "[encoded data removed]",
      "text/plain": [
       "<Figure size 640x480 with 1 Axes>"
      ]
     },
     "metadata": {},
     "output_type": "display_data"
    }
   ],
   "source": [
    "plot(model)"
   ]
  },
  {
   "cell_type": "code",
   "execution_count": 174,
   "metadata": {},
   "outputs": [],
   "source": [
    "y_hat = model.predict(X_test)\n",
    "y_pred = np.zeros(y_hat.shape, dtype = 'int')\n",
    "y_pred[y_hat > 0.5] = 1\n",
    "y_pred[y_hat <= 0.5] = 0"
   ]
  },
  {
   "cell_type": "code",
   "execution_count": 175,
   "metadata": {},
   "outputs": [
    {
     "name": "stdout",
     "output_type": "stream",
     "text": [
      "The mean accuracy for the test set is: 0.828\n",
      "The precision for the test set is: 0.8175438596491228\n",
      "The recall for the test set is: 0.8726591760299626\n"
     ]
    }
   ],
   "source": [
    "print(\"The mean accuracy for the test set is: \" + str(mean_accuracy(y_test, y_pred)))\n",
    "print(\"The precision for the test set is: \" + str(precision(y_test, y_pred)))\n",
    "print(\"The recall for the test set is: \" + str(recall(y_test, y_pred)))"
   ]
  }
 ],
 "metadata": {
  "kernelspec": {
   "display_name": "base",
   "language": "python",
   "name": "python3"
  },
  "language_info": {
   "codemirror_mode": {
    "name": "ipython",
    "version": 3
   },
   "file_extension": ".py",
   "mimetype": "text/x-python",
   "name": "python",
   "nbconvert_exporter": "python",
   "pygments_lexer": "ipython3",
   "version": "3.11.4"
  },
  "orig_nbformat": 4,
  "vscode": {
   "interpreter": {
    "hash": "3067ead486e059ec00ffe7555bdb889e6e264a24dc711bf108106cc7baee8d5d"
   }
  }
 },
 "nbformat": 4,
 "nbformat_minor": 2
}
