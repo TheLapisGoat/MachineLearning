{
 "cells": [
  {
   "cell_type": "markdown",
   "metadata": {},
   "source": [
    "## Assignment 3\n",
    "### Name: Sourodeep Datta\n",
    "### Roll Number: 21CS10064"
   ]
  },
  {
   "cell_type": "markdown",
   "metadata": {},
   "source": [
    "Importing the required libraries"
   ]
  },
  {
   "cell_type": "code",
   "execution_count": 46,
   "metadata": {},
   "outputs": [],
   "source": [
    "import numpy as np\n",
    "import matplotlib.pyplot as plt\n",
    "from sklearn.model_selection import train_test_split\n",
    "from sklearn.naive_bayes import GaussianNB\n",
    "import pandas as pd"
   ]
  },
  {
   "cell_type": "markdown",
   "metadata": {},
   "source": [
    "## Part A\n",
    "### Q1\n",
    "Setting k = 4 and calculating corresponding probabilities"
   ]
  },
  {
   "cell_type": "code",
   "execution_count": 47,
   "metadata": {},
   "outputs": [
    {
     "name": "stdout",
     "output_type": "stream",
     "text": [
      "[0.125, 0.5, 0.25, 0.125]\n"
     ]
    }
   ],
   "source": [
    "k = 4\n",
    "\n",
    "probabilities = [1/(2**(k - 1))]\n",
    "\n",
    "for i in range(2, k+1):\n",
    "    probabilities.append(1/(2**(i - 1)))\n",
    "    \n",
    "print(probabilities)"
   ]
  },
  {
   "cell_type": "markdown",
   "metadata": {},
   "source": [
    "Taking 1000 samples from the distribution"
   ]
  },
  {
   "cell_type": "code",
   "execution_count": 3,
   "metadata": {},
   "outputs": [],
   "source": [
    "np.random.seed(217)\n",
    "samples = []\n",
    "\n",
    "for i in range(1, 1001):\n",
    "    sub_samples = np.random.choice(np.arange(1, k+1), size = 4, p=probabilities)\n",
    "    samples.append(sub_samples.sum())\n",
    "    \n",
    "samples = np.array(samples)\n",
    "    \n",
    "freq = {}\n",
    "\n",
    "for i in samples:\n",
    "    if i in freq:\n",
    "        freq[i] += 1\n",
    "    else:\n",
    "        freq[i] = 1"
   ]
  },
  {
   "cell_type": "markdown",
   "metadata": {},
   "source": [
    "Defining necessary functions"
   ]
  },
  {
   "cell_type": "code",
   "execution_count": 4,
   "metadata": {},
   "outputs": [],
   "source": [
    "def print_five_number_summary(sample):\n",
    "    minval = sample.min()\n",
    "    lower_quartile = np.percentile(sample, 25)\n",
    "    median = np.percentile(sample, 50)\n",
    "    upper_quartile = np.percentile(sample, 75)\n",
    "    maxval = sample.max()\n",
    "    print(\"The five number summary is: \")\n",
    "    print(\"Min: \", minval)\n",
    "    print(\"Lower quartile: \", lower_quartile)\n",
    "    print(\"Median: \", median)\n",
    "    print(\"Upper quartile: \", upper_quartile)\n",
    "    print(\"Max: \", maxval)\n",
    "    \n",
    "def plot_histogram(freq):\n",
    "    plt.bar(list(freq.keys()), freq.values(), color='b')\n",
    "    plt.xticks(list(freq.keys()))\n",
    "    plt.title(\"Frequency Distribution of Random Die Rolls\")\n",
    "    plt.xlabel(\"Die Face\")\n",
    "    plt.ylabel(\"Frequency\")\n",
    "    plt.show()"
   ]
  },
  {
   "cell_type": "markdown",
   "metadata": {},
   "source": [
    "5 number summary of the samples"
   ]
  },
  {
   "cell_type": "code",
   "execution_count": 5,
   "metadata": {},
   "outputs": [
    {
     "name": "stdout",
     "output_type": "stream",
     "text": [
      "The five number summary is: \n",
      "Min:  5\n",
      "Lower quartile:  8.0\n",
      "Median:  9.0\n",
      "Upper quartile:  11.0\n",
      "Max:  16\n"
     ]
    }
   ],
   "source": [
    "print_five_number_summary(samples)"
   ]
  },
  {
   "cell_type": "markdown",
   "metadata": {},
   "source": [
    "Histogram of the samples"
   ]
  },
  {
   "cell_type": "code",
   "execution_count": 6,
   "metadata": {},
   "outputs": [
    {
     "data": {
      "image/png": "[encoded data removed]",
      "text/plain": [
       "<Figure size 640x480 with 1 Axes>"
      ]
     },
     "metadata": {},
     "output_type": "display_data"
    }
   ],
   "source": [
    "plot_histogram(freq)"
   ]
  },
  {
   "cell_type": "code",
   "execution_count": 7,
   "metadata": {},
   "outputs": [
    {
     "name": "stdout",
     "output_type": "stream",
     "text": [
      "The estimated sample sum is 9472\n"
     ]
    }
   ],
   "source": [
    "print(\"The estimated sample sum is\", samples.sum())"
   ]
  },
  {
   "cell_type": "markdown",
   "metadata": {},
   "source": [
    "Let $X_1, X_2, X_3$ and $X_4$ be *iid* random variables having the probability distribution of the face value of the given biased 4-faced die. Let $Y = \\sum\\limits_{i=1}^4 X_i$ be a random variable. Then the expected value of $Y$ is given by:\n",
    "$$\\mathbf{E}\\big[Y\\big] = \\mathbf{E}\\big[\\sum\\limits_{i=1}^4 X_i\\big] = \\sum\\limits_{i=1}^4 \\mathbf{E}\\big[X_i\\big]$$\n",
    "As $X_i$ are *iid* random variables, $\\mathbf{E}\\big[X_i\\big] = \\mathbf{E}\\big[X_j\\big] \\; \\forall \\; i, j \\in \\{1, 2, 3, 4\\}$. Let $\\mathbf{E}\\big[X_i\\big] = \\mathbf{E}\\big[X\\big] \\; \\forall \\; i \\in \\{1, 2, 3, 4\\}$. Then,\n",
    "$$\\mathbf{E}\\big[Y\\big] = \\sum\\limits_{i=1}^4 \\mathbf{E}\\big[X\\big] = 4 \\cdot \\mathbf{E}\\big[X\\big]$$\n",
    "Now, $\\mathbf{E}\\big[X\\big]$ is the expected value of the face value of the given biased 4-faced die. Let $p_i$ be the probability of getting the face value $i$ for $i \\in \\{1, 2, 3, 4\\}$. Then,\n",
    "$$\\mathbf{E}\\big[X\\big] = \\sum\\limits_{i=1}^4 i \\cdot p_i$$\n",
    "We know that $p_i = \\dfrac{1}{2^{i-1}} \\; \\forall \\; i \\in [ \\, 2, 4 \\, ]$ and $p_1 = \\dfrac{1}{2^3}$. Therefore,\n",
    "$$\\mathbf{E}\\big[X\\big] = \\sum\\limits_{i=1}^4 i \\cdot p_i = \\dfrac{1}{2^3} + \\dfrac{2}{2^1} + \\dfrac{3}{2^2} + \\dfrac{4}{2^3} = \\dfrac{1}{8} + \\dfrac{2}{2} + \\dfrac{3}{4} + \\dfrac{4}{8} = \\dfrac{19}{8} = 2.375$$\n",
    "Thus, the expected value of $Y$ is given by:\n",
    "$$\\mathbf{E}\\big[Y\\big] = 4 \\cdot \\mathbf{E}\\big[X\\big] = 4 \\cdot 2.375 = 9.5$$\n",
    "Now, let $Z = \\sum\\limits_{i=1}^n Y_i$, where $Y_i$ are *iid* random variables having the same probability distribution as $Y$. Then the expected value of $Z$ is given by:\n",
    "$$\\mathbf{E}\\big[Z\\big] = \\mathbf{E}\\big[\\sum\\limits_{i=1}^n Y_i\\big] = \\sum\\limits_{i=1}^n \\mathbf{E}\\big[Y_i\\big]$$\n",
    "As $Y_i$ are *iid* random variables, $\\mathbf{E}\\big[Y_i\\big] = \\mathbf{E}\\big[Y_j\\big] \\; \\forall \\; i, j \\in \\{1, 2, \\ldots, n\\}$. Let $\\mathbf{E}\\big[Y_i\\big] = \\mathbf{E}\\big[Y\\big] \\; \\forall \\; i \\in \\{1, 2, \\ldots, n\\}$. Then,\n",
    "$$\\mathbf{E}\\big[Z\\big] = \\sum\\limits_{i=1}^n \\mathbf{E}\\big[Y\\big] = n \\cdot \\mathbf{E}\\big[Y\\big] = 9.5n$$\n",
    "For n = 1000, we have:\n",
    "$$\\mathbf{E}\\big[Z\\big] = 9.5 \\cdot 1000 = 9500$$\n",
    "Thus, the expected value of $Z$ is 9500, which is close to the experimentally calculated value of 9472 that we got."
   ]
  },
  {
   "cell_type": "markdown",
   "metadata": {},
   "source": [
    "### Q2\n",
    "Taking 1000 samples from the distribution"
   ]
  },
  {
   "cell_type": "code",
   "execution_count": 8,
   "metadata": {},
   "outputs": [],
   "source": [
    "np.random.seed(217)\n",
    "samples = []\n",
    "\n",
    "for i in range(1, 1001):\n",
    "    sub_samples = np.random.choice(np.arange(1, k+1), size = 8, p=probabilities)\n",
    "    samples.append(sub_samples.sum())\n",
    "    \n",
    "samples = np.array(samples)\n",
    "    \n",
    "freq = {}\n",
    "\n",
    "for i in samples:\n",
    "    if i in freq:\n",
    "        freq[i] += 1\n",
    "    else:\n",
    "        freq[i] = 1"
   ]
  },
  {
   "cell_type": "markdown",
   "metadata": {},
   "source": [
    "5 number summary of the samples"
   ]
  },
  {
   "cell_type": "code",
   "execution_count": 9,
   "metadata": {},
   "outputs": [
    {
     "name": "stdout",
     "output_type": "stream",
     "text": [
      "The five number summary is: \n",
      "Min:  12\n",
      "Lower quartile:  17.0\n",
      "Median:  19.0\n",
      "Upper quartile:  21.0\n",
      "Max:  27\n"
     ]
    }
   ],
   "source": [
    "print_five_number_summary(samples)"
   ]
  },
  {
   "cell_type": "markdown",
   "metadata": {},
   "source": [
    "Histogram of the samples"
   ]
  },
  {
   "cell_type": "code",
   "execution_count": 10,
   "metadata": {},
   "outputs": [
    {
     "data": {
      "image/png": "[encoded data removed]",
      "text/plain": [
       "<Figure size 640x480 with 1 Axes>"
      ]
     },
     "metadata": {},
     "output_type": "display_data"
    }
   ],
   "source": [
    "plot_histogram(freq)"
   ]
  },
  {
   "cell_type": "code",
   "execution_count": 11,
   "metadata": {},
   "outputs": [
    {
     "name": "stdout",
     "output_type": "stream",
     "text": [
      "The estimated sample sum is 18923\n"
     ]
    }
   ],
   "source": [
    "print(\"The estimated sample sum is\", samples.sum())"
   ]
  },
  {
   "cell_type": "markdown",
   "metadata": {},
   "source": [
    "Let $X_1, X_2, X_3, \\dots X_8$ be *iid* random variables having the probability distribution of the face value of the given biased 4-faced die. Let $Y = \\sum\\limits_{i=1}^8 X_i$ be a random variable. Then the expected value of $Y$ is given by:\n",
    "$$\\mathbf{E}\\big[Y\\big] = \\mathbf{E}\\big[\\sum\\limits_{i=1}^8 X_i\\big] = \\sum\\limits_{i=1}^8 \\mathbf{E}\\big[X_i\\big]$$\n",
    "As $X_i$ are *iid* random variables, $\\mathbf{E}\\big[X_i\\big] = \\mathbf{E}\\big[X_j\\big] \\; \\forall \\; i, j \\in \\big[1, 8\\big]$. Let $\\mathbf{E}\\big[X_i\\big] = \\mathbf{E}\\big[X\\big] \\; \\forall \\; i \\in \\big[1, 8\\big]$. Then,\n",
    "$$\\mathbf{E}\\big[Y\\big] = \\sum\\limits_{i=1}^8 \\mathbf{E}\\big[X\\big] = 8 \\cdot \\mathbf{E}\\big[X\\big]$$\n",
    "Now, $\\mathbf{E}\\big[X\\big]$ is the expected value of the face value of the given biased 4-faced die. Let $p_i$ be the probability of getting the face value $i$ for $i \\in \\{1, 2, 3, 4\\}$. Then,\n",
    "$$\\mathbf{E}\\big[X\\big] = \\sum\\limits_{i=1}^4 i \\cdot p_i$$\n",
    "We know that $p_i = \\dfrac{1}{2^{i-1}} \\; \\forall \\; i \\in [ \\, 2, 4 \\, ]$ and $p_1 = \\dfrac{1}{2^3}$. Therefore,\n",
    "$$\\mathbf{E}\\big[X\\big] = \\sum\\limits_{i=1}^4 i \\cdot p_i = \\dfrac{1}{2^3} + \\dfrac{2}{2^1} + \\dfrac{3}{2^2} + \\dfrac{4}{2^3} = \\dfrac{1}{8} + \\dfrac{2}{2} + \\dfrac{3}{4} + \\dfrac{4}{8} = \\dfrac{19}{8} = 2.375$$\n",
    "Thus, the expected value of $Y$ is given by:\n",
    "$$\\mathbf{E}\\big[Y\\big] = 8 \\cdot \\mathbf{E}\\big[X\\big] = 8 \\cdot 2.375 = 19$$\n",
    "Now, let $Z = \\sum\\limits_{i=1}^n Y_i$, where $Y_i$ are *iid* random variables having the same probability distribution as $Y$. Then the expected value of $Z$ is given by:\n",
    "$$\\mathbf{E}\\big[Z\\big] = \\mathbf{E}\\big[\\sum\\limits_{i=1}^n Y_i\\big] = \\sum\\limits_{i=1}^n \\mathbf{E}\\big[Y_i\\big]$$\n",
    "As $Y_i$ are *iid* random variables, $\\mathbf{E}\\big[Y_i\\big] = \\mathbf{E}\\big[Y_j\\big] \\; \\forall \\; i, j \\in \\{1, 2, \\ldots, n\\}$. Let $\\mathbf{E}\\big[Y_i\\big] = \\mathbf{E}\\big[Y\\big] \\; \\forall \\; i \\in \\{1, 2, \\ldots, n\\}$. Then,\n",
    "$$\\mathbf{E}\\big[Z\\big] = \\sum\\limits_{i=1}^n \\mathbf{E}\\big[Y\\big] = n \\cdot \\mathbf{E}\\big[Y\\big] = 19n$$\n",
    "For n = 1000, we have:\n",
    "$$\\mathbf{E}\\big[Z\\big] = 19 \\cdot 1000 = 19000$$\n",
    "Thus, the expected value of $Z$ is 19000, which is close to the experimentally calculated value of 18923 that we got."
   ]
  },
  {
   "cell_type": "markdown",
   "metadata": {},
   "source": [
    "### Q3\n",
    "Setting k = 16 and calculating corresponding probabilities"
   ]
  },
  {
   "cell_type": "code",
   "execution_count": 12,
   "metadata": {},
   "outputs": [
    {
     "name": "stdout",
     "output_type": "stream",
     "text": [
      "[3.0517578125e-05, 0.5, 0.25, 0.125, 0.0625, 0.03125, 0.015625, 0.0078125, 0.00390625, 0.001953125, 0.0009765625, 0.00048828125, 0.000244140625, 0.0001220703125, 6.103515625e-05, 3.0517578125e-05]\n"
     ]
    }
   ],
   "source": [
    "k = 16\n",
    "\n",
    "probabilities = [1/(2**(k - 1))]\n",
    "\n",
    "for i in range(2, k+1):\n",
    "    probabilities.append(1/(2**(i - 1)))\n",
    "    \n",
    "print(probabilities)"
   ]
  },
  {
   "cell_type": "markdown",
   "metadata": {},
   "source": [
    "Taking 1000 samples from the distribution (sum of 4 rolls per sample)"
   ]
  },
  {
   "cell_type": "code",
   "execution_count": 13,
   "metadata": {},
   "outputs": [],
   "source": [
    "np.random.seed(217)\n",
    "samples = []\n",
    "\n",
    "for i in range(1, 1001):\n",
    "    sub_samples = np.random.choice(np.arange(1, k+1), size = 4, p=probabilities)\n",
    "    samples.append(sub_samples.sum())\n",
    "    \n",
    "samples = np.array(samples)\n",
    "    \n",
    "freq = {}\n",
    "\n",
    "for i in samples:\n",
    "    if i in freq:\n",
    "        freq[i] += 1\n",
    "    else:\n",
    "        freq[i] = 1"
   ]
  },
  {
   "cell_type": "markdown",
   "metadata": {},
   "source": [
    "5 number summary of the samples"
   ]
  },
  {
   "cell_type": "code",
   "execution_count": 14,
   "metadata": {},
   "outputs": [
    {
     "name": "stdout",
     "output_type": "stream",
     "text": [
      "The five number summary is: \n",
      "Min:  8\n",
      "Lower quartile:  10.0\n",
      "Median:  12.0\n",
      "Upper quartile:  14.0\n",
      "Max:  28\n"
     ]
    }
   ],
   "source": [
    "print_five_number_summary(samples)"
   ]
  },
  {
   "cell_type": "markdown",
   "metadata": {},
   "source": [
    "Histogram of the samples"
   ]
  },
  {
   "cell_type": "code",
   "execution_count": 15,
   "metadata": {},
   "outputs": [
    {
     "data": {
      "image/png": "[encoded data removed]",
      "text/plain": [
       "<Figure size 640x480 with 1 Axes>"
      ]
     },
     "metadata": {},
     "output_type": "display_data"
    }
   ],
   "source": [
    "plot_histogram(freq)"
   ]
  },
  {
   "cell_type": "code",
   "execution_count": 16,
   "metadata": {},
   "outputs": [
    {
     "name": "stdout",
     "output_type": "stream",
     "text": [
      "The estimated sample sum is 12015\n"
     ]
    }
   ],
   "source": [
    "print(\"The estimated sample sum is\", samples.sum())"
   ]
  },
  {
   "cell_type": "markdown",
   "metadata": {},
   "source": [
    "Taking 1000 samples from the distribution (sum of 8 rolls per sample)"
   ]
  },
  {
   "cell_type": "code",
   "execution_count": 17,
   "metadata": {},
   "outputs": [],
   "source": [
    "np.random.seed(217)\n",
    "samples = []\n",
    "\n",
    "for i in range(1, 1001):\n",
    "    sub_samples = np.random.choice(np.arange(1, k+1), size = 8, p=probabilities)\n",
    "    samples.append(sub_samples.sum())\n",
    "    \n",
    "samples = np.array(samples)\n",
    "    \n",
    "freq = {}\n",
    "\n",
    "for i in samples:\n",
    "    if i in freq:\n",
    "        freq[i] += 1\n",
    "    else:\n",
    "        freq[i] = 1"
   ]
  },
  {
   "cell_type": "markdown",
   "metadata": {},
   "source": [
    "5 number summary of the samples"
   ]
  },
  {
   "cell_type": "code",
   "execution_count": 18,
   "metadata": {},
   "outputs": [
    {
     "name": "stdout",
     "output_type": "stream",
     "text": [
      "The five number summary is: \n",
      "Min:  16\n",
      "Lower quartile:  21.0\n",
      "Median:  23.0\n",
      "Upper quartile:  26.0\n",
      "Max:  41\n"
     ]
    }
   ],
   "source": [
    "print_five_number_summary(samples)"
   ]
  },
  {
   "cell_type": "markdown",
   "metadata": {},
   "source": [
    "Histogram of the samples"
   ]
  },
  {
   "cell_type": "code",
   "execution_count": 19,
   "metadata": {},
   "outputs": [
    {
     "data": {
      "image/png": "[encoded data removed]",
      "text/plain": [
       "<Figure size 640x480 with 1 Axes>"
      ]
     },
     "metadata": {},
     "output_type": "display_data"
    }
   ],
   "source": [
    "plot_histogram(freq)"
   ]
  },
  {
   "cell_type": "code",
   "execution_count": 20,
   "metadata": {},
   "outputs": [
    {
     "name": "stdout",
     "output_type": "stream",
     "text": [
      "The estimated sample sum is 23990\n"
     ]
    }
   ],
   "source": [
    "print(\"The estimated sample sum is\", samples.sum())"
   ]
  },
  {
   "cell_type": "markdown",
   "metadata": {},
   "source": [
    "## Part B"
   ]
  },
  {
   "cell_type": "markdown",
   "metadata": {},
   "source": [
    "Loading the Dataset"
   ]
  },
  {
   "cell_type": "code",
   "execution_count": 21,
   "metadata": {},
   "outputs": [],
   "source": [
    "from ucimlrepo import fetch_ucirepo\n",
    "\n",
    "spambase = fetch_ucirepo(id=94)\n",
    "\n",
    "X = spambase.data.features\n",
    "y = spambase.data.targets\n",
    "\n",
    "X = pd.DataFrame(X)\n",
    "y = pd.DataFrame(y)"
   ]
  },
  {
   "cell_type": "code",
   "execution_count": 22,
   "metadata": {},
   "outputs": [
    {
     "data": {
      "text/html": [
       "<div>\n",
       "<style scoped>\n",
       "    .dataframe tbody tr th:only-of-type {\n",
       "        vertical-align: middle;\n",
       "    }\n",
       "\n",
       "    .dataframe tbody tr th {\n",
       "        vertical-align: top;\n",
       "    }\n",
       "\n",
       "    .dataframe thead th {\n",
       "        text-align: right;\n",
       "    }\n",
       "</style>\n",
       "<table border=\"1\" class=\"dataframe\">\n",
       "  <thead>\n",
       "    <tr style=\"text-align: right;\">\n",
       "      <th></th>\n",
       "      <th>word_freq_make</th>\n",
       "      <th>word_freq_address</th>\n",
       "      <th>word_freq_all</th>\n",
       "      <th>word_freq_3d</th>\n",
       "      <th>word_freq_our</th>\n",
       "      <th>word_freq_over</th>\n",
       "      <th>word_freq_remove</th>\n",
       "      <th>word_freq_internet</th>\n",
       "      <th>word_freq_order</th>\n",
       "      <th>word_freq_mail</th>\n",
       "      <th>...</th>\n",
       "      <th>word_freq_conference</th>\n",
       "      <th>char_freq_;</th>\n",
       "      <th>char_freq_(</th>\n",
       "      <th>char_freq_[</th>\n",
       "      <th>char_freq_!</th>\n",
       "      <th>char_freq_$</th>\n",
       "      <th>char_freq_#</th>\n",
       "      <th>capital_run_length_average</th>\n",
       "      <th>capital_run_length_longest</th>\n",
       "      <th>capital_run_length_total</th>\n",
       "    </tr>\n",
       "  </thead>\n",
       "  <tbody>\n",
       "    <tr>\n",
       "      <th>0</th>\n",
       "      <td>0.00</td>\n",
       "      <td>0.64</td>\n",
       "      <td>0.64</td>\n",
       "      <td>0.0</td>\n",
       "      <td>0.32</td>\n",
       "      <td>0.00</td>\n",
       "      <td>0.00</td>\n",
       "      <td>0.00</td>\n",
       "      <td>0.00</td>\n",
       "      <td>0.00</td>\n",
       "      <td>...</td>\n",
       "      <td>0.0</td>\n",
       "      <td>0.00</td>\n",
       "      <td>0.000</td>\n",
       "      <td>0.0</td>\n",
       "      <td>0.778</td>\n",
       "      <td>0.000</td>\n",
       "      <td>0.000</td>\n",
       "      <td>3.756</td>\n",
       "      <td>61</td>\n",
       "      <td>278</td>\n",
       "    </tr>\n",
       "    <tr>\n",
       "      <th>1</th>\n",
       "      <td>0.21</td>\n",
       "      <td>0.28</td>\n",
       "      <td>0.50</td>\n",
       "      <td>0.0</td>\n",
       "      <td>0.14</td>\n",
       "      <td>0.28</td>\n",
       "      <td>0.21</td>\n",
       "      <td>0.07</td>\n",
       "      <td>0.00</td>\n",
       "      <td>0.94</td>\n",
       "      <td>...</td>\n",
       "      <td>0.0</td>\n",
       "      <td>0.00</td>\n",
       "      <td>0.132</td>\n",
       "      <td>0.0</td>\n",
       "      <td>0.372</td>\n",
       "      <td>0.180</td>\n",
       "      <td>0.048</td>\n",
       "      <td>5.114</td>\n",
       "      <td>101</td>\n",
       "      <td>1028</td>\n",
       "    </tr>\n",
       "    <tr>\n",
       "      <th>2</th>\n",
       "      <td>0.06</td>\n",
       "      <td>0.00</td>\n",
       "      <td>0.71</td>\n",
       "      <td>0.0</td>\n",
       "      <td>1.23</td>\n",
       "      <td>0.19</td>\n",
       "      <td>0.19</td>\n",
       "      <td>0.12</td>\n",
       "      <td>0.64</td>\n",
       "      <td>0.25</td>\n",
       "      <td>...</td>\n",
       "      <td>0.0</td>\n",
       "      <td>0.01</td>\n",
       "      <td>0.143</td>\n",
       "      <td>0.0</td>\n",
       "      <td>0.276</td>\n",
       "      <td>0.184</td>\n",
       "      <td>0.010</td>\n",
       "      <td>9.821</td>\n",
       "      <td>485</td>\n",
       "      <td>2259</td>\n",
       "    </tr>\n",
       "    <tr>\n",
       "      <th>3</th>\n",
       "      <td>0.00</td>\n",
       "      <td>0.00</td>\n",
       "      <td>0.00</td>\n",
       "      <td>0.0</td>\n",
       "      <td>0.63</td>\n",
       "      <td>0.00</td>\n",
       "      <td>0.31</td>\n",
       "      <td>0.63</td>\n",
       "      <td>0.31</td>\n",
       "      <td>0.63</td>\n",
       "      <td>...</td>\n",
       "      <td>0.0</td>\n",
       "      <td>0.00</td>\n",
       "      <td>0.137</td>\n",
       "      <td>0.0</td>\n",
       "      <td>0.137</td>\n",
       "      <td>0.000</td>\n",
       "      <td>0.000</td>\n",
       "      <td>3.537</td>\n",
       "      <td>40</td>\n",
       "      <td>191</td>\n",
       "    </tr>\n",
       "    <tr>\n",
       "      <th>4</th>\n",
       "      <td>0.00</td>\n",
       "      <td>0.00</td>\n",
       "      <td>0.00</td>\n",
       "      <td>0.0</td>\n",
       "      <td>0.63</td>\n",
       "      <td>0.00</td>\n",
       "      <td>0.31</td>\n",
       "      <td>0.63</td>\n",
       "      <td>0.31</td>\n",
       "      <td>0.63</td>\n",
       "      <td>...</td>\n",
       "      <td>0.0</td>\n",
       "      <td>0.00</td>\n",
       "      <td>0.135</td>\n",
       "      <td>0.0</td>\n",
       "      <td>0.135</td>\n",
       "      <td>0.000</td>\n",
       "      <td>0.000</td>\n",
       "      <td>3.537</td>\n",
       "      <td>40</td>\n",
       "      <td>191</td>\n",
       "    </tr>\n",
       "  </tbody>\n",
       "</table>\n",
       "<p>5 rows × 57 columns</p>\n",
       "</div>"
      ],
      "text/plain": [
       "   word_freq_make  word_freq_address  word_freq_all  word_freq_3d  \\\n",
       "0            0.00               0.64           0.64           0.0   \n",
       "1            0.21               0.28           0.50           0.0   \n",
       "2            0.06               0.00           0.71           0.0   \n",
       "3            0.00               0.00           0.00           0.0   \n",
       "4            0.00               0.00           0.00           0.0   \n",
       "\n",
       "   word_freq_our  word_freq_over  word_freq_remove  word_freq_internet  \\\n",
       "0           0.32            0.00              0.00                0.00   \n",
       "1           0.14            0.28              0.21                0.07   \n",
       "2           1.23            0.19              0.19                0.12   \n",
       "3           0.63            0.00              0.31                0.63   \n",
       "4           0.63            0.00              0.31                0.63   \n",
       "\n",
       "   word_freq_order  word_freq_mail  ...  word_freq_conference  char_freq_;  \\\n",
       "0             0.00            0.00  ...                   0.0         0.00   \n",
       "1             0.00            0.94  ...                   0.0         0.00   \n",
       "2             0.64            0.25  ...                   0.0         0.01   \n",
       "3             0.31            0.63  ...                   0.0         0.00   \n",
       "4             0.31            0.63  ...                   0.0         0.00   \n",
       "\n",
       "   char_freq_(  char_freq_[  char_freq_!  char_freq_$  char_freq_#  \\\n",
       "0        0.000          0.0        0.778        0.000        0.000   \n",
       "1        0.132          0.0        0.372        0.180        0.048   \n",
       "2        0.143          0.0        0.276        0.184        0.010   \n",
       "3        0.137          0.0        0.137        0.000        0.000   \n",
       "4        0.135          0.0        0.135        0.000        0.000   \n",
       "\n",
       "   capital_run_length_average  capital_run_length_longest  \\\n",
       "0                       3.756                          61   \n",
       "1                       5.114                         101   \n",
       "2                       9.821                         485   \n",
       "3                       3.537                          40   \n",
       "4                       3.537                          40   \n",
       "\n",
       "   capital_run_length_total  \n",
       "0                       278  \n",
       "1                      1028  \n",
       "2                      2259  \n",
       "3                       191  \n",
       "4                       191  \n",
       "\n",
       "[5 rows x 57 columns]"
      ]
     },
     "execution_count": 22,
     "metadata": {},
     "output_type": "execute_result"
    }
   ],
   "source": [
    "X.head()"
   ]
  },
  {
   "cell_type": "code",
   "execution_count": 23,
   "metadata": {},
   "outputs": [
    {
     "data": {
      "text/html": [
       "<div>\n",
       "<style scoped>\n",
       "    .dataframe tbody tr th:only-of-type {\n",
       "        vertical-align: middle;\n",
       "    }\n",
       "\n",
       "    .dataframe tbody tr th {\n",
       "        vertical-align: top;\n",
       "    }\n",
       "\n",
       "    .dataframe thead th {\n",
       "        text-align: right;\n",
       "    }\n",
       "</style>\n",
       "<table border=\"1\" class=\"dataframe\">\n",
       "  <thead>\n",
       "    <tr style=\"text-align: right;\">\n",
       "      <th></th>\n",
       "      <th>Class</th>\n",
       "    </tr>\n",
       "  </thead>\n",
       "  <tbody>\n",
       "    <tr>\n",
       "      <th>0</th>\n",
       "      <td>1</td>\n",
       "    </tr>\n",
       "    <tr>\n",
       "      <th>1</th>\n",
       "      <td>1</td>\n",
       "    </tr>\n",
       "    <tr>\n",
       "      <th>2</th>\n",
       "      <td>1</td>\n",
       "    </tr>\n",
       "    <tr>\n",
       "      <th>3</th>\n",
       "      <td>1</td>\n",
       "    </tr>\n",
       "    <tr>\n",
       "      <th>4</th>\n",
       "      <td>1</td>\n",
       "    </tr>\n",
       "  </tbody>\n",
       "</table>\n",
       "</div>"
      ],
      "text/plain": [
       "   Class\n",
       "0      1\n",
       "1      1\n",
       "2      1\n",
       "3      1\n",
       "4      1"
      ]
     },
     "execution_count": 23,
     "metadata": {},
     "output_type": "execute_result"
    }
   ],
   "source": [
    "y.head()"
   ]
  },
  {
   "cell_type": "markdown",
   "metadata": {},
   "source": [
    "Getting train-validation-test split"
   ]
  },
  {
   "cell_type": "code",
   "execution_count": 24,
   "metadata": {},
   "outputs": [],
   "source": [
    "X = np.array(X)\n",
    "y = np.array(y)\n",
    "\n",
    "X_train, X_test, y_train, y_test = train_test_split(X, y, test_size=0.3, random_state = 158)\n",
    "X_val, X_test, y_val, y_test = train_test_split(X_test, y_test, test_size=0.5, random_state = 158)"
   ]
  },
  {
   "cell_type": "code",
   "execution_count": 25,
   "metadata": {},
   "outputs": [
    {
     "name": "stdout",
     "output_type": "stream",
     "text": [
      "(3220, 57)\n",
      "(690, 57)\n",
      "(691, 57)\n"
     ]
    }
   ],
   "source": [
    "print(X_train.shape)\n",
    "print(X_val.shape)\n",
    "print(X_test.shape)"
   ]
  },
  {
   "cell_type": "markdown",
   "metadata": {},
   "source": [
    "Sampling 5 random columns"
   ]
  },
  {
   "cell_type": "code",
   "execution_count": 26,
   "metadata": {},
   "outputs": [
    {
     "name": "stdout",
     "output_type": "stream",
     "text": [
      "(3220, 5)\n"
     ]
    }
   ],
   "source": [
    "column_idx = np.random.choice(np.arange(0, X_train.shape[1]), size = 5, replace=False)\n",
    "columns = X_train[:, column_idx]\n",
    "print(columns.shape)"
   ]
  },
  {
   "cell_type": "code",
   "execution_count": 27,
   "metadata": {},
   "outputs": [],
   "source": [
    "def plot_probability_density_columns(columns):\n",
    "    for i in range(columns.shape[1]):\n",
    "        plt.hist(columns[:, i], bins=250, label=\"Column \" + str(i), density = False)\n",
    "        plt.title(\"Probability Density of Column \" + str(i + 1))\n",
    "        locs, _ = plt.yticks()\n",
    "        plt.yticks(locs,np.round(locs/len(columns[:, i]),3))\n",
    "        plt.show()"
   ]
  },
  {
   "cell_type": "markdown",
   "metadata": {},
   "source": [
    "Plotting histograms for 5 sampled columns"
   ]
  },
  {
   "cell_type": "code",
   "execution_count": 28,
   "metadata": {},
   "outputs": [
    {
     "data": {
      "image/png": "[encoded data removed]",
      "text/plain": [
       "<Figure size 640x480 with 1 Axes>"
      ]
     },
     "metadata": {},
     "output_type": "display_data"
    },
    {
     "data": {
      "image/png": "[encoded data removed]",
      "text/plain": [
       "<Figure size 640x480 with 1 Axes>"
      ]
     },
     "metadata": {},
     "output_type": "display_data"
    },
    {
     "data": {
      "image/png": "[encoded data removed]",
      "text/plain": [
       "<Figure size 640x480 with 1 Axes>"
      ]
     },
     "metadata": {},
     "output_type": "display_data"
    },
    {
     "data": {
      "image/png": "[encoded data removed]",
      "text/plain": [
       "<Figure size 640x480 with 1 Axes>"
      ]
     },
     "metadata": {},
     "output_type": "display_data"
    },
    {
     "data": {
      "image/png": "[encoded data removed]",
      "text/plain": [
       "<Figure size 640x480 with 1 Axes>"
      ]
     },
     "metadata": {},
     "output_type": "display_data"
    }
   ],
   "source": [
    "plot_probability_density_columns(columns)"
   ]
  },
  {
   "cell_type": "markdown",
   "metadata": {},
   "source": [
    "Creating the Model"
   ]
  },
  {
   "cell_type": "code",
   "execution_count": 29,
   "metadata": {},
   "outputs": [],
   "source": [
    "class NaiveBayes:\n",
    "    def __init__(self, bins, classes):\n",
    "        self.parameters = {}\n",
    "        self.bin_edges = {}\n",
    "        self.priors = {}\n",
    "        self.bins = bins\n",
    "        self.classes = np.arange(0, classes)\n",
    "        \n",
    "    def fit(self, X, y):\n",
    "        for i, c in enumerate(self.classes):\n",
    "            X_c = X[y[:, 0] == c, :]\n",
    "            \n",
    "            self.priors[c] = np.log(X_c.shape[0] / X.shape[0])   #Calculating Prior Probabilities in Log Scale to avoid numerical underflow\n",
    "            self.parameters[\"ParameterProbs\" + str(c)] = np.zeros((X.shape[1], self.bins + 2)) #Adding 2 extra bins for outlier values, to the left and right of the calculated bins\n",
    "            self.bin_edges[\"Bin Edges\" + str(c)] = np.zeros((X.shape[1], self.bins + 1)) #Adding 1 extra bin edge for outlier values, to the right of the calculated bin edges\n",
    "            \n",
    "            for j in range(X.shape[1]):\n",
    "                self.bin_edges[\"Bin Edges\" + str(c)][j, :] = np.histogram(X_c[:, j], bins=self.bins)[1]\n",
    "                self.parameters[\"ParameterProbs\" + str(c)][j, 1:-1] = np.histogram(X_c[:, j], bins=self.bins)[0]\n",
    "                self.parameters[\"ParameterProbs\" + str(c)][j, :] += 1       #Apply Laplace Smoothing\n",
    "                #Storing Probabilites in Log Scale to avoid numerical underflow\n",
    "                self.parameters[\"ParameterProbs\" + str(c)][j, :] = np.log(self.parameters[\"ParameterProbs\" + str(c)][j, :])\n",
    "                self.parameters[\"ParameterProbs\" + str(c)][j, :] -= np.log(np.sum(self.parameters[\"ParameterProbs\" + str(c)][j, :]))\n",
    "                \n",
    "    def predict(self, X):\n",
    "        posteriors = []\n",
    "        for x in X:\n",
    "            posterior = []\n",
    "            for c in self.classes:\n",
    "                likelihood = 0\n",
    "                for j in range(X.shape[1]):\n",
    "                    bin_idx = np.digitize(x[j], self.bin_edges[\"Bin Edges\" + str(c)][j, :])\n",
    "                    likelihood += self.parameters[\"ParameterProbs\" + str(c)][j, bin_idx]\n",
    "                posterior.append(self.priors[c] + likelihood)\n",
    "            posteriors.append(self.classes[np.argmax(posterior)])\n",
    "        return posteriors\n",
    "                "
   ]
  },
  {
   "cell_type": "markdown",
   "metadata": {},
   "source": [
    "Training the Model"
   ]
  },
  {
   "cell_type": "code",
   "execution_count": 30,
   "metadata": {},
   "outputs": [],
   "source": [
    "model = NaiveBayes(150, 2)\n",
    "model.fit(X_train, y_train)"
   ]
  },
  {
   "cell_type": "markdown",
   "metadata": {},
   "source": [
    "Printing the Model Priors"
   ]
  },
  {
   "cell_type": "code",
   "execution_count": 31,
   "metadata": {},
   "outputs": [
    {
     "name": "stdout",
     "output_type": "stream",
     "text": [
      "Model Priors are:  {0: 0.6006211180124224, 1: 0.39937888198757765}\n"
     ]
    }
   ],
   "source": [
    "print(\"Model Priors are: \", {i : np.exp(model.priors[i]) for i in model.priors})"
   ]
  },
  {
   "cell_type": "markdown",
   "metadata": {},
   "source": [
    "Printing the total number of parameters"
   ]
  },
  {
   "cell_type": "code",
   "execution_count": 32,
   "metadata": {},
   "outputs": [
    {
     "name": "stdout",
     "output_type": "stream",
     "text": [
      "The total number of parameters are:  17330\n"
     ]
    }
   ],
   "source": [
    "print('The total number of parameters are: ', np.sum([model.parameters[i].shape[0] * model.parameters[i].shape[1] for i in model.parameters]) + 2) #Adding 2 for the 2 priors"
   ]
  },
  {
   "cell_type": "code",
   "execution_count": 33,
   "metadata": {},
   "outputs": [],
   "source": [
    "def accuracy(y_true, y_pred):\n",
    "    return np.sum(y_true == y_pred) / len(y_true)\n",
    "\n",
    "def precision(y_true, y_pred):\n",
    "    tp = np.sum((y_true == 1) & (y_pred == 1))\n",
    "    fp = np.sum((y_true == 0) & (y_pred == 1))\n",
    "    return tp / (tp + fp)\n",
    "\n",
    "def recall(y_true, y_pred):\n",
    "    tp = np.sum((y_true == 1) & (y_pred == 1))\n",
    "    fn = np.sum((y_true == 1) & (y_pred == 0))\n",
    "    return tp / (tp + fn)\n",
    "\n",
    "def f1_score(y_true, y_pred):\n",
    "    prec = precision(y_true, y_pred)\n",
    "    rec = recall(y_true, y_pred)\n",
    "    return 2 * prec * rec / (prec + rec)"
   ]
  },
  {
   "cell_type": "code",
   "execution_count": 34,
   "metadata": {},
   "outputs": [],
   "source": [
    "predictions = np.array(model.predict(X_test))"
   ]
  },
  {
   "cell_type": "markdown",
   "metadata": {},
   "source": [
    "Printing the necessary metrics"
   ]
  },
  {
   "cell_type": "code",
   "execution_count": 35,
   "metadata": {},
   "outputs": [
    {
     "name": "stdout",
     "output_type": "stream",
     "text": [
      "Accuracy:  0.8610709117221418\n",
      "Precision:  0.9453551912568307\n",
      "Recall:  0.667953667953668\n",
      "F1 Score:  0.7828054298642533\n"
     ]
    }
   ],
   "source": [
    "print(\"Accuracy: \", accuracy(y_test[:, 0], predictions))\n",
    "print(\"Precision: \", precision(y_test[:, 0], predictions))\n",
    "print(\"Recall: \", recall(y_test[:, 0], predictions))\n",
    "print(\"F1 Score: \", f1_score(y_test[:, 0], predictions))"
   ]
  },
  {
   "cell_type": "markdown",
   "metadata": {},
   "source": [
    "Taking the logarthims of the input data"
   ]
  },
  {
   "cell_type": "code",
   "execution_count": 36,
   "metadata": {},
   "outputs": [],
   "source": [
    "X_train_new = np.log(X_train + 0.0001)   #Adding 0.001 to avoid log(0)\n",
    "X_val_new = np.log(X_val + 0.0001)\n",
    "X_test_new = np.log(X_test + 0.0001)"
   ]
  },
  {
   "cell_type": "markdown",
   "metadata": {},
   "source": [
    "Training model"
   ]
  },
  {
   "cell_type": "code",
   "execution_count": 37,
   "metadata": {},
   "outputs": [],
   "source": [
    "model_new = NaiveBayes(150, 2)\n",
    "model_new.fit(X_train_new, y_train)"
   ]
  },
  {
   "cell_type": "markdown",
   "metadata": {},
   "source": [
    "Printing the Model Priors"
   ]
  },
  {
   "cell_type": "code",
   "execution_count": 38,
   "metadata": {},
   "outputs": [
    {
     "name": "stdout",
     "output_type": "stream",
     "text": [
      "Model Priors are:  {0: 0.6006211180124224, 1: 0.39937888198757765}\n"
     ]
    }
   ],
   "source": [
    "print(\"Model Priors are: \", {i : np.exp(model_new.priors[i]) for i in model_new.priors})"
   ]
  },
  {
   "cell_type": "code",
   "execution_count": 39,
   "metadata": {},
   "outputs": [],
   "source": [
    "predictions = np.array(model_new.predict(X_test_new))"
   ]
  },
  {
   "cell_type": "markdown",
   "metadata": {},
   "source": [
    "Printing the necessary metrics"
   ]
  },
  {
   "cell_type": "code",
   "execution_count": 40,
   "metadata": {},
   "outputs": [
    {
     "name": "stdout",
     "output_type": "stream",
     "text": [
      "Accuracy:  0.9001447178002895\n",
      "Precision:  0.8925619834710744\n",
      "Recall:  0.833976833976834\n",
      "F1 Score:  0.8622754491017964\n"
     ]
    }
   ],
   "source": [
    "print(\"Accuracy: \", accuracy(y_test[:, 0], predictions))\n",
    "print(\"Precision: \", precision(y_test[:, 0], predictions))\n",
    "print(\"Recall: \", recall(y_test[:, 0], predictions))\n",
    "print(\"F1 Score: \", f1_score(y_test[:, 0], predictions))"
   ]
  },
  {
   "cell_type": "markdown",
   "metadata": {},
   "source": [
    "The accuracy when taking the logarithms of the columns is more than the accuracy when not taking the logarithms of the columns. This is because the orginial data in the features is heavily clustered around 0. Taking the logarithms of the columns helps in spreading out the data among different bins, thus making it easier for the model to learn the features, improving the accuracy."
   ]
  },
  {
   "cell_type": "markdown",
   "metadata": {},
   "source": [
    "### Part C"
   ]
  },
  {
   "cell_type": "code",
   "execution_count": 41,
   "metadata": {},
   "outputs": [
    {
     "data": {
      "text/html": [
       "<style>#sk-container-id-1 {color: black;}#sk-container-id-1 pre{padding: 0;}#sk-container-id-1 div.sk-toggleable {background-color: white;}#sk-container-id-1 label.sk-toggleable__label {cursor: pointer;display: block;width: 100%;margin-bottom: 0;padding: 0.3em;box-sizing: border-box;text-align: center;}#sk-container-id-1 label.sk-toggleable__label-arrow:before {content: \"▸\";float: left;margin-right: 0.25em;color: #696969;}#sk-container-id-1 label.sk-toggleable__label-arrow:hover:before {color: black;}#sk-container-id-1 div.sk-estimator:hover label.sk-toggleable__label-arrow:before {color: black;}#sk-container-id-1 div.sk-toggleable__content {max-height: 0;max-width: 0;overflow: hidden;text-align: left;background-color: #f0f8ff;}#sk-container-id-1 div.sk-toggleable__content pre {margin: 0.2em;color: black;border-radius: 0.25em;background-color: #f0f8ff;}#sk-container-id-1 input.sk-toggleable__control:checked~div.sk-toggleable__content {max-height: 200px;max-width: 100%;overflow: auto;}#sk-container-id-1 input.sk-toggleable__control:checked~label.sk-toggleable__label-arrow:before {content: \"▾\";}#sk-container-id-1 div.sk-estimator input.sk-toggleable__control:checked~label.sk-toggleable__label {background-color: #d4ebff;}#sk-container-id-1 div.sk-label input.sk-toggleable__control:checked~label.sk-toggleable__label {background-color: #d4ebff;}#sk-container-id-1 input.sk-hidden--visually {border: 0;clip: rect(1px 1px 1px 1px);clip: rect(1px, 1px, 1px, 1px);height: 1px;margin: -1px;overflow: hidden;padding: 0;position: absolute;width: 1px;}#sk-container-id-1 div.sk-estimator {font-family: monospace;background-color: #f0f8ff;border: 1px dotted black;border-radius: 0.25em;box-sizing: border-box;margin-bottom: 0.5em;}#sk-container-id-1 div.sk-estimator:hover {background-color: #d4ebff;}#sk-container-id-1 div.sk-parallel-item::after {content: \"\";width: 100%;border-bottom: 1px solid gray;flex-grow: 1;}#sk-container-id-1 div.sk-label:hover label.sk-toggleable__label {background-color: #d4ebff;}#sk-container-id-1 div.sk-serial::before {content: \"\";position: absolute;border-left: 1px solid gray;box-sizing: border-box;top: 0;bottom: 0;left: 50%;z-index: 0;}#sk-container-id-1 div.sk-serial {display: flex;flex-direction: column;align-items: center;background-color: white;padding-right: 0.2em;padding-left: 0.2em;position: relative;}#sk-container-id-1 div.sk-item {position: relative;z-index: 1;}#sk-container-id-1 div.sk-parallel {display: flex;align-items: stretch;justify-content: center;background-color: white;position: relative;}#sk-container-id-1 div.sk-item::before, #sk-container-id-1 div.sk-parallel-item::before {content: \"\";position: absolute;border-left: 1px solid gray;box-sizing: border-box;top: 0;bottom: 0;left: 50%;z-index: -1;}#sk-container-id-1 div.sk-parallel-item {display: flex;flex-direction: column;z-index: 1;position: relative;background-color: white;}#sk-container-id-1 div.sk-parallel-item:first-child::after {align-self: flex-end;width: 50%;}#sk-container-id-1 div.sk-parallel-item:last-child::after {align-self: flex-start;width: 50%;}#sk-container-id-1 div.sk-parallel-item:only-child::after {width: 0;}#sk-container-id-1 div.sk-dashed-wrapped {border: 1px dashed gray;margin: 0 0.4em 0.5em 0.4em;box-sizing: border-box;padding-bottom: 0.4em;background-color: white;}#sk-container-id-1 div.sk-label label {font-family: monospace;font-weight: bold;display: inline-block;line-height: 1.2em;}#sk-container-id-1 div.sk-label-container {text-align: center;}#sk-container-id-1 div.sk-container {/* jupyter's `normalize.less` sets `[hidden] { display: none; }` but bootstrap.min.css set `[hidden] { display: none !important; }` so we also need the `!important` here to be able to override the default hidden behavior on the sphinx rendered scikit-learn.org. See: https://github.com/scikit-learn/scikit-learn/issues/21755 */display: inline-block !important;position: relative;}#sk-container-id-1 div.sk-text-repr-fallback {display: none;}</style><div id=\"sk-container-id-1\" class=\"sk-top-container\"><div class=\"sk-text-repr-fallback\"><pre>GaussianNB()</pre><b>In a Jupyter environment, please rerun this cell to show the HTML representation or trust the notebook. <br />On GitHub, the HTML representation is unable to render, please try loading this page with nbviewer.org.</b></div><div class=\"sk-container\" hidden><div class=\"sk-item\"><div class=\"sk-estimator sk-toggleable\"><input class=\"sk-toggleable__control sk-hidden--visually\" id=\"sk-estimator-id-1\" type=\"checkbox\" checked><label for=\"sk-estimator-id-1\" class=\"sk-toggleable__label sk-toggleable__label-arrow\">GaussianNB</label><div class=\"sk-toggleable__content\"><pre>GaussianNB()</pre></div></div></div></div></div>"
      ],
      "text/plain": [
       "GaussianNB()"
      ]
     },
     "execution_count": 41,
     "metadata": {},
     "output_type": "execute_result"
    }
   ],
   "source": [
    "model = GaussianNB()\n",
    "model.fit(X_train, y_train[:, 0])\n",
    "\n",
    "model_log = GaussianNB()\n",
    "model_log.fit(X_train_new, y_train[:, 0])"
   ]
  },
  {
   "cell_type": "code",
   "execution_count": 42,
   "metadata": {},
   "outputs": [],
   "source": [
    "def plot_ROC(fpr, tpr, label):\n",
    "    plt.plot(fpr, tpr)\n",
    "    plt.title(\"ROC Curve for \" + str(label))\n",
    "    plt.xlabel(\"False Positive Rate\")\n",
    "    plt.ylabel(\"True Positive Rate\")\n",
    "    plt.show()\n",
    "    \n",
    "def calculate_roc(y_true, y_pred):\n",
    "    data = list(zip(y_true, y_pred))\n",
    "    \n",
    "    data.sort(key=lambda x: x[1], reverse=True)\n",
    "\n",
    "    num_positive = y_true.count(1)\n",
    "    num_negative = y_true.count(0)\n",
    "\n",
    "    tpr = []\n",
    "    fpr = []\n",
    "    true_positives = 0\n",
    "    false_positives = 0\n",
    "\n",
    "    for label, score in data:\n",
    "        if label == 1:\n",
    "            true_positives += 1\n",
    "        else:\n",
    "            false_positives += 1\n",
    "\n",
    "        tpr.append(true_positives / num_positive)\n",
    "        fpr.append(false_positives / num_negative)\n",
    "\n",
    "    return fpr, tpr"
   ]
  },
  {
   "cell_type": "code",
   "execution_count": 43,
   "metadata": {},
   "outputs": [],
   "source": [
    "predictions = model.predict_proba(X_test)[:, 1]\n",
    "predictions_log = model_log.predict_proba(X_test_new)[:, 1]"
   ]
  },
  {
   "cell_type": "code",
   "execution_count": 44,
   "metadata": {},
   "outputs": [
    {
     "data": {
      "image/png": "[encoded data removed]",
      "text/plain": [
       "<Figure size 640x480 with 1 Axes>"
      ]
     },
     "metadata": {},
     "output_type": "display_data"
    }
   ],
   "source": [
    "fpr, tpr = calculate_roc(list(y_test[:, 0]), list(predictions))\n",
    "plot_ROC(fpr, tpr, \"Model 1\")"
   ]
  },
  {
   "cell_type": "code",
   "execution_count": 45,
   "metadata": {},
   "outputs": [
    {
     "data": {
      "image/png": "[encoded data removed]",
      "text/plain": [
       "<Figure size 640x480 with 1 Axes>"
      ]
     },
     "metadata": {},
     "output_type": "display_data"
    }
   ],
   "source": [
    "fpr, tpr = calculate_roc(list(y_test[:, 0]), list(predictions_log))\n",
    "plot_ROC(fpr, tpr, \"Model 2 (with log input)\")"
   ]
  },
  {
   "cell_type": "markdown",
   "metadata": {},
   "source": [
    "The second model is better than the first model. This is because the second model has an ROC curve that is closer to the top left corner of the graph, which is the ideal position for the ROC curve to be in, as it implies that the model will have a higher true positive rate for the same false positive rate compared to the second model."
   ]
  },
  {
   "cell_type": "markdown",
   "metadata": {},
   "source": [
    "### Naive Bayes vs SVM"
   ]
  },
  {
   "cell_type": "markdown",
   "metadata": {},
   "source": [
    "SVM: \\\n",
    "It can be seen that the accuracy when using an SVM is higher than the accuracy when using a Naive Bayes classifier, when using specific kernels and values of $C$, with the best seen accuracy being for $C = 10$ using an rbf kernel, having an accuracy of $0.94$.\n",
    "\n",
    "Naive Bayes: \\\n",
    "In general, it can be seen that Naive Bayes tends to perform worse than SVM according to accuracy. However, compared to the SVM, it requires much less time to train, and only has one hyperparameter, which is the number of bins, thus making it easier to optimize the hyperparameter. The best accuracy achieved was $0.90$ using 150 bins."
   ]
  }
 ],
 "metadata": {
  "kernelspec": {
   "display_name": "MLAss1",
   "language": "python",
   "name": "python3"
  },
  "language_info": {
   "codemirror_mode": {
    "name": "ipython",
    "version": 3
   },
   "file_extension": ".py",
   "mimetype": "text/x-python",
   "name": "python",
   "nbconvert_exporter": "python",
   "pygments_lexer": "ipython3",
   "version": "3.12.0"
  }
 },
 "nbformat": 4,
 "nbformat_minor": 2
}
